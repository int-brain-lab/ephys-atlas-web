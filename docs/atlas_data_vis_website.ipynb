{
 "cells": [
  {
   "cell_type": "markdown",
   "source": [
    "# Use the atlas website to display your results"
   ],
   "metadata": {
    "collapsed": false
   }
  },
  {
   "cell_type": "markdown",
   "source": [
    "The website [http://atlas2.internationalbrainlab.org](http://atlas2.internationalbrainlab.org) enables you to upload and display values per brain region.\n",
    "This webpage explains how to prepare your data for this purpose, and how to upload them onto the website."
   ],
   "metadata": {
    "collapsed": false
   }
  },
  {
   "cell_type": "markdown",
   "source": [
    "## Install the necessary packages on your machine"
   ],
   "metadata": {
    "collapsed": false
   }
  },
  {
   "cell_type": "markdown",
   "source": [
    "- Clone the [`ephys-atlas-web` repository](https://github.com/int-brain-lab/ephys-atlas-web.git)\n",
    "\n",
    "- If needed, use `conda develop` to ensure this repository is visible from your Python IDE"
   ],
   "metadata": {
    "collapsed": false
   }
  },
  {
   "cell_type": "markdown",
   "source": [
    "## Prepare your data"
   ],
   "metadata": {
    "collapsed": false
   }
  },
  {
   "cell_type": "markdown",
   "source": [
    "You will have to declare :\n",
    "- An `acronyms` array containing the acronyms of the brain regions\n",
    "- One (or more) `feature` array(s) containing the values to be displayed, each corresponding to a brain region listed in the `acronyms` array\n",
    "- The brain region mapping chosen\n",
    "- The names of each features\n",
    "\n",
    "Optional:\n",
    "- Some text describing each feature\n",
    "- A hierarchical tree to organise the display of the features\n"
   ],
   "metadata": {
    "collapsed": false
   }
  },
  {
   "cell_type": "markdown",
   "source": [
    "### Default usage: Plot on one hemisphere, using the Beryl mapping"
   ],
   "metadata": {
    "collapsed": false
   }
  },
  {
   "cell_type": "markdown",
   "source": [
    "To prepare your data for the visualisation website, we recommend you use the set of brain regions contained in the Beryl mapping."
   ],
   "metadata": {
    "collapsed": false
   }
  },
  {
   "cell_type": "code",
   "execution_count": 1,
   "metadata": {
    "collapsed": true
   },
   "outputs": [
    {
     "name": "stdout",
     "output_type": "stream",
     "text": [
      "['void' 'root' 'FRP' 'MOp' 'MOs' 'SSp-n' 'SSp-bfd' 'SSp-ll' 'SSp-m'\n",
      " 'SSp-ul' 'SSp-tr' 'SSp-un' 'SSs' 'GU' 'VISC' 'AUDd' 'AUDp' 'AUDpo' 'AUDv'\n",
      " 'VISal' 'VISam' 'VISl' 'VISp' 'VISpl' 'VISpm' 'VISli' 'VISpor' 'ACAd'\n",
      " 'ACAv' 'PL' 'ILA' 'ORBl' 'ORBm' 'ORBvl' 'AId' 'AIp' 'AIv' 'RSPagl' 'RSPd'\n",
      " 'RSPv' 'VISa' 'VISrl' 'TEa' 'PERI' 'ECT' 'MOB' 'AOB' 'AON' 'TTd' 'TTv'\n",
      " 'DP' 'PIR' 'NLOT' 'COAa' 'COAp' 'PAA' 'TR' 'CA1' 'CA2' 'CA3' 'DG' 'FC'\n",
      " 'IG' 'ENTl' 'ENTm' 'PAR' 'POST' 'PRE' 'SUB' 'ProS' 'HATA' 'APr' 'CLA'\n",
      " 'EPd' 'EPv' 'LA' 'BLA' 'BMA' 'PA' 'CP' 'ACB' 'FS' 'OT' 'LSc' 'LSr' 'LSv'\n",
      " 'SF' 'SH' 'AAA' 'BA' 'CEA' 'IA' 'MEA' 'GPe' 'GPi' 'SI' 'MA' 'MS' 'NDB'\n",
      " 'TRS' 'BST' 'VAL' 'VM' 'VPL' 'VPLpc' 'VPM' 'VPMpc' 'PoT' 'SPF' 'SPA' 'PP'\n",
      " 'MG' 'LGd' 'LP' 'PO' 'POL' 'SGN' 'Eth' 'AV' 'AM' 'AD' 'IAM' 'IAD' 'LD'\n",
      " 'IMD' 'MD' 'SMT' 'PR' 'PVT' 'PT' 'RE' 'Xi' 'RH' 'CM' 'PCN' 'CL' 'PF'\n",
      " 'PIL' 'RT' 'IGL' 'IntG' 'LGv' 'SubG' 'MH' 'LH' 'SO' 'PVH' 'PVa' 'PVi'\n",
      " 'ARH' 'ADP' 'AVP' 'AVPV' 'DMH' 'MEPO' 'MPO' 'PS' 'PVp' 'PVpo' 'SBPV'\n",
      " 'SCH' 'SFO' 'VMPO' 'VLPO' 'AHN' 'LM' 'MM' 'SUM' 'TM' 'MPN' 'PMd' 'PMv'\n",
      " 'PVHd' 'VMH' 'PH' 'LHA' 'LPO' 'PSTN' 'PeF' 'RCH' 'STN' 'TU' 'ZI' 'SCs'\n",
      " 'IC' 'NB' 'SAG' 'PBG' 'SNr' 'VTA' 'PN' 'RR' 'MRN' 'SCm' 'PAG' 'APN' 'MPT'\n",
      " 'NOT' 'NPC' 'OP' 'PPT' 'RPF' 'CUN' 'RN' 'III' 'MA3' 'EW' 'IV' 'Pa4' 'VTN'\n",
      " 'AT' 'LT' 'DT' 'MT' 'SNc' 'PPN' 'IF' 'IPN' 'RL' 'CLI' 'DR' 'NLL' 'PSV'\n",
      " 'PB' 'SOC' 'B' 'DTN' 'PDTg' 'PCG' 'PG' 'PRNc' 'SG' 'SUT' 'TRN' 'V' 'P5'\n",
      " 'Acs5' 'PC5' 'I5' 'CS' 'LC' 'LDT' 'NI' 'PRNr' 'RPO' 'SLC' 'SLD' 'AP'\n",
      " 'DCO' 'VCO' 'CU' 'GR' 'ECU' 'NTB' 'NTS' 'SPVC' 'SPVI' 'SPVO' 'Pa5' 'VI'\n",
      " 'VII' 'AMB' 'DMX' 'GRN' 'ICB' 'IO' 'IRN' 'ISN' 'LIN' 'LRN' 'MARN' 'MDRN'\n",
      " 'PARN' 'PAS' 'PGRN' 'NR' 'PRP' 'PPY' 'LAV' 'MV' 'SPIV' 'SUV' 'x' 'XII'\n",
      " 'y' 'RM' 'RPA' 'RO' 'LING' 'CENT2' 'CENT3' 'CUL4 5' 'DEC' 'FOTU' 'PYR'\n",
      " 'UVU' 'NOD' 'SIM' 'ANcr1' 'ANcr2' 'PRM' 'COPY' 'PFL' 'FL' 'FN' 'IP' 'DN'\n",
      " 'VeCB']\n"
     ]
    },
    {
     "name": "stderr",
     "output_type": "stream",
     "text": [
      "/Users/gaelle/Documents/Git/int-brain-lab/ibllib-repo/ibllib/atlas/regions.py:439: RuntimeWarning: invalid value encountered in cast\n",
      "  level=df_regions.depth.to_numpy().astype(np.uint16),\n",
      "/Users/gaelle/Documents/Git/int-brain-lab/ibllib-repo/ibllib/atlas/regions.py:441: RuntimeWarning: invalid value encountered in cast\n",
      "  order=df_regions.graph_order.to_numpy().astype(np.uint16))\n"
     ]
    }
   ],
   "source": [
    "from ibllib.atlas.regions import BrainRegions\n",
    "import numpy as np\n",
    "\n",
    "br = BrainRegions()\n",
    "\n",
    "mapping = 'Beryl'\n",
    "beryl_acronyms = br.acronym[np.unique(br.mappings[mapping])]\n",
    "\n",
    "# Print the list of brain regions contained in this mapping\n",
    "print(beryl_acronyms)"
   ]
  },
  {
   "cell_type": "markdown",
   "source": [
    "Let's imagine you want to plot 3 features (e.g. the mean spike rate, amplitude, or LFP phase), for the following 4 brain regions : VTA, SNc, VISrl and AUDv. The arrays and associated variables would be:"
   ],
   "metadata": {
    "collapsed": false
   }
  },
  {
   "cell_type": "code",
   "execution_count": 3,
   "outputs": [],
   "source": [
    "acronyms = np.array(['VTA', 'SNc', 'VISrl', 'AUDv'])\n",
    "\n",
    "values1 = np.array([1.2, 3.4, 0.0, 0.1])\n",
    "values2 = np.array([33.5, 234.2, 5.3, 10.6])\n",
    "values3 = np.array([36.0, 12.3, 34.0, 56.0])\n",
    "\n",
    "fname1 = 'spike_rate'\n",
    "fname2 = 'spike_ampl'\n",
    "fname3 = 'lfp_phase'\n",
    "\n",
    "# Check that the arrays have the same length\n",
    "assert len(acronyms) == len(values1)\n",
    "assert len(acronyms) == len(values2)\n",
    "assert len(acronyms) == len(values3)"
   ],
   "metadata": {
    "collapsed": false,
    "pycharm": {
     "name": "#%%\n"
    }
   }
  },
  {
   "cell_type": "markdown",
   "source": [
    "Note: The feature name `fname` should be unique, and can be thought of as a human-readable unique identifier of the feature within the bucket."
   ],
   "metadata": {
    "collapsed": false
   }
  },
  {
   "cell_type": "markdown",
   "source": [
    "### Create a tree\n",
    "The tree enables you to hierarchically organise the features in your bucket.\n",
    "If you do not create one (set `tree = None`), on the display all the features will be named by their variable names `fname`, and on the same hierarchy level (i.e. as one drop-down list).\n",
    "However, you might want to organise features into groups. For example here, we will display the spikes features grouped under \"Spike\":"
   ],
   "metadata": {
    "collapsed": false
   }
  },
  {
   "cell_type": "code",
   "execution_count": null,
   "outputs": [],
   "source": [
    "tree = {'Spike': {'mean spike rate (Hz)': fname1,\n",
    "                  'mean spike amplitude (uV)': fname2},\n",
    "        'LFP phase (8-10Hz band) (rad)': fname3}\n"
   ],
   "metadata": {
    "collapsed": false,
    "pycharm": {
     "name": "#%%\n"
    }
   }
  },
  {
   "cell_type": "markdown",
   "source": [
    "## Upload your data onto the server"
   ],
   "metadata": {
    "collapsed": false
   }
  },
  {
   "cell_type": "markdown",
   "source": [
    "Define a bucket name. This bucket name will be used in the webpage URL. One bucket can contain multiple features.\n",
    "The name of the bucket should ideally easily identify what your bucket will contain, or who it belongs to.\n",
    "You can follow the convention `my3initials__myproject`, e.g. `sebcha_serotonin`.\n",
    "\n",
    "Use the `FeatureUploader` to upload your data."
   ],
   "metadata": {
    "collapsed": false
   }
  },
  {
   "cell_type": "code",
   "execution_count": null,
   "outputs": [],
   "source": [
    "from server import FeatureUploader\n",
    "\n",
    "bucket = 'my_bucket_name'\n",
    "\n",
    "# --------------------------------------------\n",
    "# Create or load the bucket.\n",
    "up = FeatureUploader(bucket, tree=tree)\n",
    "\n",
    "# Create the features.\n",
    "if not up.features_exist(fname1):\n",
    "    up.create_features(fname1, acronyms, values1, mapping=mapping)\n",
    "if not up.features_exist(fname2):\n",
    "    up.create_features(fname2, acronyms, values2, mapping=mapping)\n",
    "\n",
    "url = up.get_buckets_url([bucket])\n",
    "print(url)"
   ],
   "metadata": {
    "collapsed": false,
    "pycharm": {
     "name": "#%%\n"
    }
   }
  },
  {
   "cell_type": "markdown",
   "source": [
    "The first time you run this, you'll be prompted to enter a global key.\n",
    "- The global key is: `f9134149-fcb5-4142-a0eb-4e76a0811cf9`\n",
    "\n",
    "The script should display a URL at the end, click on it to see your features."
   ],
   "metadata": {
    "collapsed": false,
    "pycharm": {
     "name": "#%% md\n"
    }
   }
  },
  {
   "cell_type": "code",
   "execution_count": null,
   "outputs": [],
   "source": [],
   "metadata": {
    "collapsed": false,
    "pycharm": {
     "name": "#%%\n"
    }
   }
  }
 ],
 "metadata": {
  "kernelspec": {
   "display_name": "Python 3",
   "language": "python",
   "name": "python3"
  },
  "language_info": {
   "codemirror_mode": {
    "name": "ipython",
    "version": 2
   },
   "file_extension": ".py",
   "mimetype": "text/x-python",
   "name": "python",
   "nbconvert_exporter": "python",
   "pygments_lexer": "ipython2",
   "version": "2.7.6"
  }
 },
 "nbformat": 4,
 "nbformat_minor": 0
}
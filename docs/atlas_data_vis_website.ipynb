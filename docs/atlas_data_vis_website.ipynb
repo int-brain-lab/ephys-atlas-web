{
 "cells": [
  {
   "cell_type": "markdown",
   "source": [
    "# Use the atlas website to display your results"
   ],
   "metadata": {
    "collapsed": false
   }
  },
  {
   "cell_type": "markdown",
   "source": [
    "The website [http://atlas2.internationalbrainlab.org](http://atlas2.internationalbrainlab.org) enables you to upload and display values per brain region.\n",
    "This webpage explains how to prepare your data for this purpose, and how to upload them onto the website."
   ],
   "metadata": {
    "collapsed": false
   }
  },
  {
   "cell_type": "markdown",
   "source": [
    "## Install the necessary packages on your machine"
   ],
   "metadata": {
    "collapsed": false
   }
  },
  {
   "cell_type": "markdown",
   "source": [
    "- Clone the [`ephys-atlas-web` repository](https://github.com/int-brain-lab/ephys-atlas-web.git)\n",
    "\n",
    "- If needed, use `conda develop` to ensure this repository is visible from your Python IDE"
   ],
   "metadata": {
    "collapsed": false
   }
  },
  {
   "cell_type": "markdown",
   "source": [
    "## Prepare your data"
   ],
   "metadata": {
    "collapsed": false
   }
  },
  {
   "cell_type": "markdown",
   "source": [
    "You will have to declare :\n",
    "- An `acronyms` array containing the acronyms of the brain regions\n",
    "- One (or more) `feature` array(s) containing the values to be displayed, each corresponding to a brain region listed in the `acronyms` array\n",
    "- The brain region mapping chosen\n",
    "- The names of each features\n",
    "\n",
    "Optional:\n",
    "- Some text describing each feature\n",
    "- A hierarchical tree to organise the display of the features\n"
   ],
   "metadata": {
    "collapsed": false
   }
  },
  {
   "cell_type": "markdown",
   "source": [
    "### Default usage: Plot on one hemisphere, using the Allen mapping"
   ],
   "metadata": {
    "collapsed": false
   }
  },
  {
   "cell_type": "markdown",
   "source": [
    "To prepare your data for the visualisation website, we recommend you use the set of brain regions that are *leaf nodes* in the Allen parcellation."
   ],
   "metadata": {
    "collapsed": false
   }
  },
  {
   "cell_type": "code",
   "execution_count": null,
   "metadata": {
    "collapsed": true
   },
   "outputs": [],
   "source": [
    "from ibllib.atlas.regions import BrainRegions\n",
    "import numpy as np\n",
    "\n",
    "br = BrainRegions()\n",
    "\n",
    "acronyms = np.unique(br.leaves().acronym)\n",
    "\n",
    "# Print the list of brain regions (first 100)\n",
    "print(f'There are {len(acronyms)} acronyms; first 100 are named: {acronyms[0:100]} ...')"
   ]
  },
  {
   "cell_type": "markdown",
   "source": [
    "Let's imagine you want to plot 3 features (e.g. the mean spike rate, amplitude, or LFP phase), for the following 4 brain regions : CENT2mo, DGlb-po, ACVI and ACAd2/3. The arrays and associated variables would be:"
   ],
   "metadata": {
    "collapsed": false
   }
  },
  {
   "cell_type": "code",
   "execution_count": null,
   "outputs": [],
   "source": [
    "acronyms = np.array(['CENT2mo', 'DGlb-po', 'ACVI', 'ACAd2/3'])\n",
    "\n",
    "values1 = np.array([1.2, 3.4, 0.0, 0.1])\n",
    "values2 = np.array([33.5, 234.2, 5.3, 10.6])\n",
    "values3 = np.array([36.0, 12.3, 34.0, 56.0])\n",
    "\n",
    "fname1 = 'spike_rate'\n",
    "fname2 = 'spike_ampl'\n",
    "fname3 = 'lfp_phase'\n",
    "\n",
    "# Check that the arrays have the same length\n",
    "assert len(acronyms) == len(values1)\n",
    "assert len(acronyms) == len(values2)\n",
    "assert len(acronyms) == len(values3)"
   ],
   "metadata": {
    "collapsed": false,
    "pycharm": {
     "name": "#%%\n"
    }
   }
  },
  {
   "cell_type": "markdown",
   "source": [
    "Note: The feature name `fname` should be unique, and can be thought of as a human-readable unique identifier of the feature within the bucket."
   ],
   "metadata": {
    "collapsed": false,
    "pycharm": {
     "is_executing": true
    }
   },
   "outputs": []
  },
  {
   "cell_type": "markdown",
   "source": [
    "### Create a tree\n",
    "The tree enables you to hierarchically organise the features in your bucket.\n",
    "If you do not create one (set `tree = None`), on the display all the features will be named by their variable names `fname`, and on the same hierarchy level (i.e. as one drop-down list).\n",
    "However, you might want to organise features into groups. For example here, we will display the spikes features grouped under \"Spike\":"
   ],
   "metadata": {
    "collapsed": false
   }
  },
  {
   "cell_type": "code",
   "execution_count": null,
   "outputs": [],
   "source": [
    "tree = {'Spike': {'mean spike rate (Hz)': fname1,\n",
    "                  'mean spike amplitude (uV)': fname2},\n",
    "        'LFP phase (8-10Hz band) (rad)': fname3}\n"
   ],
   "metadata": {
    "collapsed": false,
    "pycharm": {
     "name": "#%%\n"
    }
   }
  },
  {
   "cell_type": "markdown",
   "source": [
    "## Upload your data onto the server"
   ],
   "metadata": {
    "collapsed": false
   }
  },
  {
   "cell_type": "markdown",
   "source": [
    "Define a bucket name. This bucket name will be used in the webpage URL. One bucket can contain multiple features.\n",
    "The name of the bucket should ideally easily identify what your bucket will contain, or who it belongs to.\n",
    "You can follow the convention `my3initials__myproject`, e.g. `sebcha_serotonin`.\n",
    "\n",
    "Use the `FeatureUploader` to upload your data."
   ],
   "metadata": {
    "collapsed": false
   }
  },
  {
   "cell_type": "code",
   "execution_count": null,
   "outputs": [],
   "source": [
    "from server import FeatureUploader\n",
    "\n",
    "bucket = 'my_bucket_name'\n",
    "\n",
    "# --------------------------------------------\n",
    "# Create or load the bucket.\n",
    "up = FeatureUploader(bucket, tree=tree)\n",
    "\n",
    "# Create the features.\n",
    "if not up.features_exist(fname1):\n",
    "    up.create_features(fname1, acronyms, values1, mapping=mapping)\n",
    "if not up.features_exist(fname2):\n",
    "    up.create_features(fname2, acronyms, values2, mapping=mapping)\n",
    "\n",
    "url = up.get_buckets_url([bucket])\n",
    "print(url)"
   ],
   "metadata": {
    "collapsed": false,
    "pycharm": {
     "name": "#%%\n"
    }
   }
  },
  {
   "cell_type": "markdown",
   "source": [
    "The first time you run this, you'll be prompted to enter a global key.\n",
    "- The global key is: `f9134149-fcb5-4142-a0eb-4e76a0811cf9`\n",
    "\n",
    "The script should display a URL at the end, click on it to see your features."
   ],
   "metadata": {
    "collapsed": false,
    "pycharm": {
     "name": "#%% md\n"
    }
   }
  },
  {
   "cell_type": "code",
   "execution_count": null,
   "outputs": [],
   "source": [],
   "metadata": {
    "collapsed": false,
    "pycharm": {
     "name": "#%%\n"
    }
   }
  }
 ],
 "metadata": {
  "kernelspec": {
   "display_name": "Python 3",
   "language": "python",
   "name": "python3"
  },
  "language_info": {
   "codemirror_mode": {
    "name": "ipython",
    "version": 2
   },
   "file_extension": ".py",
   "mimetype": "text/x-python",
   "name": "python",
   "nbconvert_exporter": "python",
   "pygments_lexer": "ipython2",
   "version": "2.7.6"
  }
 },
 "nbformat": 4,
 "nbformat_minor": 0
}